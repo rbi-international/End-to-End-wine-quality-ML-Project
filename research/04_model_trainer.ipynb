{
 "cells": [
  {
   "cell_type": "code",
   "execution_count": 1,
   "id": "e157bec7",
   "metadata": {},
   "outputs": [],
   "source": [
    "import os"
   ]
  },
  {
   "cell_type": "code",
   "execution_count": 2,
   "id": "503f19a6",
   "metadata": {},
   "outputs": [
    {
     "data": {
      "text/plain": [
       "'d:\\\\ML_OPS_BABBY_FULL_STACK_NEW\\\\End-to-End-wine-quality-ML-Project\\\\research'"
      ]
     },
     "execution_count": 2,
     "metadata": {},
     "output_type": "execute_result"
    }
   ],
   "source": [
    "# check present working directory\n",
    "%pwd"
   ]
  },
  {
   "cell_type": "code",
   "execution_count": 3,
   "id": "16699ac0",
   "metadata": {},
   "outputs": [],
   "source": [
    "os.chdir('../')"
   ]
  },
  {
   "cell_type": "code",
   "execution_count": 4,
   "id": "1eede353",
   "metadata": {},
   "outputs": [
    {
     "data": {
      "text/plain": [
       "'d:\\\\ML_OPS_BABBY_FULL_STACK_NEW\\\\End-to-End-wine-quality-ML-Project'"
      ]
     },
     "execution_count": 4,
     "metadata": {},
     "output_type": "execute_result"
    }
   ],
   "source": [
    "%pwd"
   ]
  },
  {
   "cell_type": "code",
   "execution_count": 5,
   "id": "b0727680",
   "metadata": {},
   "outputs": [],
   "source": [
    "from dataclasses import dataclass\n",
    "from pathlib import Path\n",
    "\n",
    "\n",
    "@dataclass(frozen=True)\n",
    "class ModelTrainerConfig:\n",
    "    \"\"\"\n",
    "    Configuration class for model training with immutable attributes.\n",
    "    \n",
    "    This dataclass defines the required parameters for the model training process\n",
    "    in the wine quality prediction pipeline. The 'frozen=True' parameter ensures\n",
    "    all attributes are read-only after initialization.\n",
    "    \n",
    "    Attributes:\n",
    "        root_dir (Path): Directory where all model training outputs will be stored,\n",
    "                        including the trained model file and performance metrics\n",
    "        train_data_path (Path): Path to the CSV file containing training data,\n",
    "                               output from the data transformation step\n",
    "        test_data_path (Path): Path to the CSV file containing testing data,\n",
    "                              output from the data transformation step\n",
    "        model_name (str): Filename for saving the trained model (typically model.joblib)\n",
    "        alpha (float): Regularization strength parameter for the ElasticNet model,\n",
    "                      controls the overall penalty applied to coefficients\n",
    "        l1_ratio (float): The mix of L1 and L2 regularization in the ElasticNet model,\n",
    "                         where 0 is Ridge (L2 only) and 1 is Lasso (L1 only)\n",
    "        target_column (str): Name of the column to predict (the target variable),\n",
    "                            typically \"quality\" for the wine quality prediction\n",
    "    \n",
    "    Note:\n",
    "        This configuration combines paths from the config.yaml file and \n",
    "        hyperparameters from the params.yaml file into a single object\n",
    "        for the model training component.\n",
    "    \"\"\"\n",
    "    root_dir: Path\n",
    "    train_data_path: Path\n",
    "    test_data_path: Path\n",
    "    model_name: str\n",
    "    alpha: float\n",
    "    l1_ratio: float\n",
    "    target_column: str"
   ]
  },
  {
   "cell_type": "code",
   "execution_count": 6,
   "id": "9fcb70ce",
   "metadata": {},
   "outputs": [],
   "source": [
    "from mlProject.constants import *\n",
    "from mlProject.utils.common import read_yaml, create_directories"
   ]
  },
  {
   "cell_type": "code",
   "execution_count": 7,
   "id": "9193e8ab",
   "metadata": {},
   "outputs": [],
   "source": [
    "class ConfigurationManager:\n",
    "    \"\"\"\n",
    "    Manages configuration for the ML pipeline components.\n",
    "    \n",
    "    This class centralizes access to all configuration parameters by reading from\n",
    "    YAML configuration files and providing component-specific configuration objects.\n",
    "    \n",
    "    Attributes:\n",
    "        config: Main configuration parameters from config.yaml\n",
    "        params: Model hyperparameters and training parameters from params.yaml\n",
    "        schema: Data schema specifications from schema.yaml\n",
    "    \n",
    "    Methods:\n",
    "        get_data_ingestion_config: Returns configuration for the data ingestion component\n",
    "        get_data_validation_config: Returns configuration for the data validation component\n",
    "        get_data_transformation_config: Returns configuration for the data transformation component\n",
    "        get_model_trainer_config: Returns configuration for the model trainer component\n",
    "    \"\"\"\n",
    "    def __init__(\n",
    "        self,\n",
    "        config_filepath = CONFIG_FILE_PATH,\n",
    "        params_filepath = PARAMS_FILE_PATH,\n",
    "        schema_filepath = SCHEMA_FILE_PATH):\n",
    "        \"\"\"\n",
    "        Initialize the ConfigurationManager with paths to configuration files.\n",
    "        \n",
    "        Args:\n",
    "            config_filepath: Path to the main configuration file (default: CONFIG_FILE_PATH)\n",
    "            params_filepath: Path to the parameters file (default: PARAMS_FILE_PATH)\n",
    "            schema_filepath: Path to the schema file (default: SCHEMA_FILE_PATH)\n",
    "        \n",
    "        Note:\n",
    "            Creates the root artifacts directory specified in the main configuration.\n",
    "        \"\"\"\n",
    "        self.config = read_yaml(config_filepath)\n",
    "        self.params = read_yaml(params_filepath)\n",
    "        self.schema = read_yaml(schema_filepath)\n",
    "\n",
    "        create_directories([self.config.artifacts_root])\n",
    "\n",
    "\n",
    "    def get_model_trainer_config(self) -> ModelTrainerConfig:\n",
    "        \"\"\"\n",
    "        Prepare and return the configuration for model training.\n",
    "        \n",
    "        This method combines information from three sources:\n",
    "        1. config.yaml - For file paths related to training\n",
    "        2. params.yaml - For model hyperparameters \n",
    "        3. schema.yaml - For the target column name\n",
    "        \n",
    "        Returns:\n",
    "            ModelTrainerConfig: Configuration object with all parameters\n",
    "                                required for the model training component.\n",
    "                                \n",
    "        Note:\n",
    "            Creates the root directory for model training if it doesn't exist.\n",
    "            This is the only configuration method that pulls from all three\n",
    "            configuration sources.\n",
    "        \"\"\"\n",
    "        config = self.config.model_trainer\n",
    "        params = self.params.ElasticNet\n",
    "        schema = self.schema.TARGET_COLUMN\n",
    "\n",
    "        create_directories([config.root_dir])\n",
    "\n",
    "        model_trainer_config = ModelTrainerConfig(\n",
    "            root_dir=config.root_dir,\n",
    "            train_data_path = config.train_data_path,\n",
    "            test_data_path = config.test_data_path,\n",
    "            model_name = config.model_name,\n",
    "            alpha = params.alpha,\n",
    "            l1_ratio = params.l1_ratio,\n",
    "            target_column = schema.name\n",
    "        )\n",
    "\n",
    "        return model_trainer_config"
   ]
  },
  {
   "cell_type": "code",
   "execution_count": 8,
   "id": "1abca375",
   "metadata": {},
   "outputs": [],
   "source": [
    "import pandas as pd\n",
    "import os\n",
    "from mlProject import logger\n",
    "from sklearn.linear_model import ElasticNet\n",
    "import joblib"
   ]
  },
  {
   "cell_type": "code",
   "execution_count": 9,
   "id": "070a23e1",
   "metadata": {},
   "outputs": [],
   "source": [
    "class ModelTrainer:\n",
    "    \"\"\"\n",
    "    Handles the model training process for the ML pipeline.\n",
    "    \n",
    "    This class is responsible for training an ElasticNet regression model\n",
    "    on the prepared data, evaluating its performance, and saving the\n",
    "    trained model for later use.\n",
    "    \n",
    "    Attributes:\n",
    "        config (ModelTrainerConfig): Configuration containing all parameters\n",
    "                                    needed for the model training process.\n",
    "    \"\"\"\n",
    "    def __init__(self, config: ModelTrainerConfig):\n",
    "        \"\"\"\n",
    "        Initialize the ModelTrainer component with configuration.\n",
    "        \n",
    "        Args:\n",
    "            config (ModelTrainerConfig): Configuration object with all required\n",
    "                                       parameters for model training.\n",
    "        \"\"\"\n",
    "        self.config = config\n",
    "\n",
    "    \n",
    "    def train(self):\n",
    "        \"\"\"\n",
    "        Trains an ElasticNet regression model on the prepared data.\n",
    "        \n",
    "        This method:\n",
    "        1. Loads training and testing data from CSV files\n",
    "        2. Separates features (X) and target (y) for both datasets\n",
    "        3. Initializes an ElasticNet model with configured hyperparameters\n",
    "        4. Trains the model on the training data\n",
    "        5. Saves the trained model to disk using joblib\n",
    "        \n",
    "        Process:\n",
    "        - Features: All columns except the target column\n",
    "        - Target: The specified target column from schema (typically \"quality\")\n",
    "        - Model: ElasticNet with alpha and l1_ratio from params.yaml\n",
    "        - Persistence: Model saved in joblib format for later use\n",
    "        \n",
    "        Returns:\n",
    "            None: The trained model is saved to disk but not returned\n",
    "            \n",
    "        Note:\n",
    "            Uses a fixed random_state=42 for reproducibility of training\n",
    "            Could be extended to calculate and log performance metrics\n",
    "        \"\"\"\n",
    "        train_data = pd.read_csv(self.config.train_data_path)\n",
    "        test_data = pd.read_csv(self.config.test_data_path)\n",
    "\n",
    "\n",
    "        train_x = train_data.drop([self.config.target_column], axis=1)\n",
    "        test_x = test_data.drop([self.config.target_column], axis=1)\n",
    "        train_y = train_data[[self.config.target_column]]\n",
    "        test_y = test_data[[self.config.target_column]]\n",
    "\n",
    "\n",
    "        lr = ElasticNet(alpha=self.config.alpha, l1_ratio=self.config.l1_ratio, random_state=42)\n",
    "        lr.fit(train_x, train_y)\n",
    "\n",
    "        joblib.dump(lr, os.path.join(self.config.root_dir, self.config.model_name))"
   ]
  },
  {
   "cell_type": "code",
   "execution_count": 10,
   "id": "68fb5c95",
   "metadata": {},
   "outputs": [
    {
     "name": "stdout",
     "output_type": "stream",
     "text": [
      "[2025-05-08 12:47:21,109: INFO: common: yaml file: config\\config.yaml loaded successfully]\n",
      "[2025-05-08 12:47:21,116: INFO: common: yaml file: params.yaml loaded successfully]\n",
      "[2025-05-08 12:47:21,123: INFO: common: yaml file: schema.yaml loaded successfully]\n",
      "[2025-05-08 12:47:21,123: INFO: common: created directory at: artifacts]\n",
      "[2025-05-08 12:47:21,130: INFO: common: created directory at: artifacts/model_trainer]\n"
     ]
    }
   ],
   "source": [
    "\"\"\"\n",
    "Model Trainer Pipeline\n",
    "\n",
    "This script orchestrates the model training process by initializing the configuration,\n",
    "creating the model trainer component, and executing the training process.\n",
    "\n",
    "The pipeline follows these steps:\n",
    "1. Initialize the ConfigurationManager to load all configuration parameters\n",
    "2. Get the specific model trainer configuration, which combines:\n",
    "   - Path information from config.yaml\n",
    "   - Hyperparameters from params.yaml\n",
    "   - Target column information from schema.yaml\n",
    "3. Initialize the ModelTrainer component with the configuration\n",
    "4. Train the ElasticNet model and save it to disk\n",
    "\n",
    "The entire process is wrapped in a try-except block to catch and propagate\n",
    "any exceptions that might occur during execution, ensuring proper error handling.\n",
    "\n",
    "Note:\n",
    "- This is the fourth stage in the ML pipeline, following data transformation\n",
    "- It trains the prediction model using the prepared training data\n",
    "- The trained model is saved as a joblib file for use in prediction/inference\n",
    "- There's a variable naming issue in this code: model_trainer_config is used\n",
    "  both for the configuration object and the ModelTrainer instance\n",
    "\"\"\"\n",
    "\n",
    "try:\n",
    "    # Initialize configuration\n",
    "    config = ConfigurationManager()\n",
    "    \n",
    "    # Get component-specific configuration\n",
    "    model_trainer_config = config.get_model_trainer_config()\n",
    "    \n",
    "    # Initialize model trainer component\n",
    "    # Note: Variable naming issue - reusing model_trainer_config for the trainer instance\n",
    "    model_trainer = ModelTrainer(config=model_trainer_config)\n",
    "    \n",
    "    # Execute model training\n",
    "    model_trainer.train()\n",
    "    \n",
    "except Exception as e:\n",
    "    # Propagate any exceptions for handling at a higher level\n",
    "    raise e"
   ]
  },
  {
   "cell_type": "code",
   "execution_count": null,
   "id": "f6cc689b",
   "metadata": {},
   "outputs": [],
   "source": []
  }
 ],
 "metadata": {
  "kernelspec": {
   "display_name": "Python 3",
   "language": "python",
   "name": "python3"
  },
  "language_info": {
   "codemirror_mode": {
    "name": "ipython",
    "version": 3
   },
   "file_extension": ".py",
   "mimetype": "text/x-python",
   "name": "python",
   "nbconvert_exporter": "python",
   "pygments_lexer": "ipython3",
   "version": "3.10.16"
  }
 },
 "nbformat": 4,
 "nbformat_minor": 5
}
